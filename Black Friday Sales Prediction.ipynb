{
 "cells": [
  {
   "attachments": {
    "image.png": {
     "image/png": "[encoded data removed]"
    }
   },
   "cell_type": "markdown",
   "id": "a2d928ae",
   "metadata": {},
   "source": [
    "![image.png](attachment:image.png)"
   ]
  },
  {
   "cell_type": "markdown",
   "id": "71eaf080",
   "metadata": {},
   "source": [
    "# 1.Importing all the requeried labraries"
   ]
  },
  {
   "cell_type": "code",
   "execution_count": 1,
   "id": "8235bd62",
   "metadata": {},
   "outputs": [],
   "source": [
    "import pandas as pd\n",
    "import numpy as np\n",
    "import matplotlib.pyplot as plt\n",
    "import seaborn as sns\n",
    "from sklearn.preprocessing import LabelEncoder\n",
    "from sklearn.model_selection import train_test_split\n",
    "from sklearn.model_selection import train_test_split\n",
    "from sklearn.linear_model import LinearRegression, Lasso, Ridge\n",
    "from sklearn.tree import DecisionTreeRegressor\n",
    "from sklearn.ensemble import RandomForestRegressor, GradientBoostingRegressor\n",
    "from sklearn.metrics import mean_squared_error"
   ]
  },
  {
   "cell_type": "markdown",
   "id": "f5d9eae9",
   "metadata": {},
   "source": [
    "# 2. Loading the dataset"
   ]
  },
  {
   "cell_type": "code",
   "execution_count": 2,
   "id": "c68c2529",
   "metadata": {},
   "outputs": [],
   "source": [
    "dataframe1=pd.read_csv(\"train.csv\")"
   ]
  },
  {
   "cell_type": "markdown",
   "id": "e343323b",
   "metadata": {},
   "source": [
    "# 3. checking the some basic operation of data analysis"
   ]
  },
  {
   "cell_type": "code",
   "execution_count": 3,
   "id": "b37b232f",
   "metadata": {},
   "outputs": [
    {
     "name": "stdout",
     "output_type": "stream",
     "text": [
      "   User_ID Product_ID Gender   Age  Occupation City_Category  \\\n",
      "0  1000001  P00069042      F  0-17          10             A   \n",
      "1  1000001  P00248942      F  0-17          10             A   \n",
      "2  1000001  P00087842      F  0-17          10             A   \n",
      "3  1000001  P00085442      F  0-17          10             A   \n",
      "4  1000002  P00285442      M   55+          16             C   \n",
      "\n",
      "  Stay_In_Current_City_Years  Marital_Status  Product_Category_1  \\\n",
      "0                          2               0                   3   \n",
      "1                          2               0                   1   \n",
      "2                          2               0                  12   \n",
      "3                          2               0                  12   \n",
      "4                         4+               0                   8   \n",
      "\n",
      "   Product_Category_2  Product_Category_3  Purchase  \n",
      "0                 NaN                 NaN      8370  \n",
      "1                 6.0                14.0     15200  \n",
      "2                 NaN                 NaN      1422  \n",
      "3                14.0                 NaN      1057  \n",
      "4                 NaN                 NaN      7969  \n",
      "        User_ID Product_ID Gender    Age  Occupation City_Category  \\\n",
      "550063  1006033  P00372445      M  51-55          13             B   \n",
      "550064  1006035  P00375436      F  26-35           1             C   \n",
      "550065  1006036  P00375436      F  26-35          15             B   \n",
      "550066  1006038  P00375436      F    55+           1             C   \n",
      "550067  1006039  P00371644      F  46-50           0             B   \n",
      "\n",
      "       Stay_In_Current_City_Years  Marital_Status  Product_Category_1  \\\n",
      "550063                          1               1                  20   \n",
      "550064                          3               0                  20   \n",
      "550065                         4+               1                  20   \n",
      "550066                          2               0                  20   \n",
      "550067                         4+               1                  20   \n",
      "\n",
      "        Product_Category_2  Product_Category_3  Purchase  \n",
      "550063                 NaN                 NaN       368  \n",
      "550064                 NaN                 NaN       371  \n",
      "550065                 NaN                 NaN       137  \n",
      "550066                 NaN                 NaN       365  \n",
      "550067                 NaN                 NaN       490  \n",
      "(550068, 12)\n",
      "<class 'pandas.core.frame.DataFrame'>\n",
      "RangeIndex: 550068 entries, 0 to 550067\n",
      "Data columns (total 12 columns):\n",
      " #   Column                      Non-Null Count   Dtype  \n",
      "---  ------                      --------------   -----  \n",
      " 0   User_ID                     550068 non-null  int64  \n",
      " 1   Product_ID                  550068 non-null  object \n",
      " 2   Gender                      550068 non-null  object \n",
      " 3   Age                         550068 non-null  object \n",
      " 4   Occupation                  550068 non-null  int64  \n",
      " 5   City_Category               550068 non-null  object \n",
      " 6   Stay_In_Current_City_Years  550068 non-null  object \n",
      " 7   Marital_Status              550068 non-null  int64  \n",
      " 8   Product_Category_1          550068 non-null  int64  \n",
      " 9   Product_Category_2          376430 non-null  float64\n",
      " 10  Product_Category_3          166821 non-null  float64\n",
      " 11  Purchase                    550068 non-null  int64  \n",
      "dtypes: float64(2), int64(5), object(5)\n",
      "memory usage: 50.4+ MB\n",
      "None\n",
      "            User_ID     Occupation  Marital_Status  Product_Category_1  \\\n",
      "count  5.500680e+05  550068.000000   550068.000000       550068.000000   \n",
      "mean   1.003029e+06       8.076707        0.409653            5.404270   \n",
      "std    1.727592e+03       6.522660        0.491770            3.936211   \n",
      "min    1.000001e+06       0.000000        0.000000            1.000000   \n",
      "25%    1.001516e+06       2.000000        0.000000            1.000000   \n",
      "50%    1.003077e+06       7.000000        0.000000            5.000000   \n",
      "75%    1.004478e+06      14.000000        1.000000            8.000000   \n",
      "max    1.006040e+06      20.000000        1.000000           20.000000   \n",
      "\n",
      "       Product_Category_2  Product_Category_3       Purchase  \n",
      "count       376430.000000       166821.000000  550068.000000  \n",
      "mean             9.842329           12.668243    9263.968713  \n",
      "std              5.086590            4.125338    5023.065394  \n",
      "min              2.000000            3.000000      12.000000  \n",
      "25%              5.000000            9.000000    5823.000000  \n",
      "50%              9.000000           14.000000    8047.000000  \n",
      "75%             15.000000           16.000000   12054.000000  \n",
      "max             18.000000           18.000000   23961.000000  \n",
      "Index(['User_ID', 'Product_ID', 'Gender', 'Age', 'Occupation', 'City_Category',\n",
      "       'Stay_In_Current_City_Years', 'Marital_Status', 'Product_Category_1',\n",
      "       'Product_Category_2', 'Product_Category_3', 'Purchase'],\n",
      "      dtype='object')\n"
     ]
    }
   ],
   "source": [
    "def basic_operation():\n",
    "    print(dataframe1.head())\n",
    "    print(dataframe1.tail())\n",
    "    print(dataframe1.shape)\n",
    "    print(dataframe1.info())\n",
    "    print(dataframe1.describe())\n",
    "    print(dataframe1.columns)\n",
    "    \n",
    "basic_operation()\n"
   ]
  },
  {
   "cell_type": "markdown",
   "id": "5ab453e4",
   "metadata": {},
   "source": [
    "# 4.Checking the null value in the dataset"
   ]
  },
  {
   "cell_type": "code",
   "execution_count": 4,
   "id": "c0df2257",
   "metadata": {},
   "outputs": [
    {
     "data": {
      "text/plain": [
       "User_ID                            0\n",
       "Product_ID                         0\n",
       "Gender                             0\n",
       "Age                                0\n",
       "Occupation                         0\n",
       "City_Category                      0\n",
       "Stay_In_Current_City_Years         0\n",
       "Marital_Status                     0\n",
       "Product_Category_1                 0\n",
       "Product_Category_2            173638\n",
       "Product_Category_3            383247\n",
       "Purchase                           0\n",
       "dtype: int64"
      ]
     },
     "execution_count": 4,
     "metadata": {},
     "output_type": "execute_result"
    }
   ],
   "source": [
    "dataframe1.isnull().sum()"
   ]
  },
  {
   "cell_type": "code",
   "execution_count": 5,
   "id": "0bef19bd",
   "metadata": {},
   "outputs": [
    {
     "data": {
      "text/plain": [
       "Product_Category_3            383247\n",
       "Product_Category_2            173638\n",
       "User_ID                            0\n",
       "Product_ID                         0\n",
       "Gender                             0\n",
       "Age                                0\n",
       "Occupation                         0\n",
       "City_Category                      0\n",
       "Stay_In_Current_City_Years         0\n",
       "Marital_Status                     0\n",
       "Product_Category_1                 0\n",
       "Purchase                           0\n",
       "dtype: int64"
      ]
     },
     "execution_count": 5,
     "metadata": {},
     "output_type": "execute_result"
    }
   ],
   "source": [
    "# all the null value getting the top of the dataset\n",
    "dataframe1.isnull().sum().sort_values(ascending=False)\n"
   ]
  },
  {
   "cell_type": "code",
   "execution_count": 6,
   "id": "82aeb614",
   "metadata": {},
   "outputs": [
    {
     "data": {
      "text/plain": [
       "User_ID                        0.000000\n",
       "Product_ID                     0.000000\n",
       "Gender                         0.000000\n",
       "Age                            0.000000\n",
       "Occupation                     0.000000\n",
       "City_Category                  0.000000\n",
       "Stay_In_Current_City_Years     0.000000\n",
       "Marital_Status                 0.000000\n",
       "Product_Category_1             0.000000\n",
       "Product_Category_2            31.566643\n",
       "Product_Category_3            69.672659\n",
       "Purchase                       0.000000\n",
       "dtype: float64"
      ]
     },
     "execution_count": 6,
     "metadata": {},
     "output_type": "execute_result"
    }
   ],
   "source": [
    "# checking the null value percentage on the two columns\n",
    "null_per=(dataframe1.isnull().sum()/len(dataframe1))*100\n",
    "null_per"
   ]
  },
  {
   "cell_type": "code",
   "execution_count": 7,
   "id": "a1f30e64",
   "metadata": {},
   "outputs": [
    {
     "data": {
      "text/html": [
       "<div>\n",
       "<style scoped>\n",
       "    .dataframe tbody tr th:only-of-type {\n",
       "        vertical-align: middle;\n",
       "    }\n",
       "\n",
       "    .dataframe tbody tr th {\n",
       "        vertical-align: top;\n",
       "    }\n",
       "\n",
       "    .dataframe thead th {\n",
       "        text-align: right;\n",
       "    }\n",
       "</style>\n",
       "<table border=\"1\" class=\"dataframe\">\n",
       "  <thead>\n",
       "    <tr style=\"text-align: right;\">\n",
       "      <th></th>\n",
       "      <th>User_ID</th>\n",
       "      <th>Product_ID</th>\n",
       "      <th>Gender</th>\n",
       "      <th>Age</th>\n",
       "      <th>Occupation</th>\n",
       "      <th>City_Category</th>\n",
       "      <th>Stay_In_Current_City_Years</th>\n",
       "      <th>Marital_Status</th>\n",
       "      <th>Product_Category_1</th>\n",
       "      <th>Product_Category_2</th>\n",
       "      <th>Product_Category_3</th>\n",
       "      <th>Purchase</th>\n",
       "    </tr>\n",
       "  </thead>\n",
       "  <tbody>\n",
       "    <tr>\n",
       "      <th>0</th>\n",
       "      <td>1000001</td>\n",
       "      <td>P00069042</td>\n",
       "      <td>F</td>\n",
       "      <td>0-17</td>\n",
       "      <td>10</td>\n",
       "      <td>A</td>\n",
       "      <td>2</td>\n",
       "      <td>0</td>\n",
       "      <td>3</td>\n",
       "      <td>NaN</td>\n",
       "      <td>NaN</td>\n",
       "      <td>8370</td>\n",
       "    </tr>\n",
       "    <tr>\n",
       "      <th>1</th>\n",
       "      <td>1000001</td>\n",
       "      <td>P00248942</td>\n",
       "      <td>F</td>\n",
       "      <td>0-17</td>\n",
       "      <td>10</td>\n",
       "      <td>A</td>\n",
       "      <td>2</td>\n",
       "      <td>0</td>\n",
       "      <td>1</td>\n",
       "      <td>6.0</td>\n",
       "      <td>14.0</td>\n",
       "      <td>15200</td>\n",
       "    </tr>\n",
       "    <tr>\n",
       "      <th>2</th>\n",
       "      <td>1000001</td>\n",
       "      <td>P00087842</td>\n",
       "      <td>F</td>\n",
       "      <td>0-17</td>\n",
       "      <td>10</td>\n",
       "      <td>A</td>\n",
       "      <td>2</td>\n",
       "      <td>0</td>\n",
       "      <td>12</td>\n",
       "      <td>NaN</td>\n",
       "      <td>NaN</td>\n",
       "      <td>1422</td>\n",
       "    </tr>\n",
       "    <tr>\n",
       "      <th>3</th>\n",
       "      <td>1000001</td>\n",
       "      <td>P00085442</td>\n",
       "      <td>F</td>\n",
       "      <td>0-17</td>\n",
       "      <td>10</td>\n",
       "      <td>A</td>\n",
       "      <td>2</td>\n",
       "      <td>0</td>\n",
       "      <td>12</td>\n",
       "      <td>14.0</td>\n",
       "      <td>NaN</td>\n",
       "      <td>1057</td>\n",
       "    </tr>\n",
       "    <tr>\n",
       "      <th>4</th>\n",
       "      <td>1000002</td>\n",
       "      <td>P00285442</td>\n",
       "      <td>M</td>\n",
       "      <td>55+</td>\n",
       "      <td>16</td>\n",
       "      <td>C</td>\n",
       "      <td>4+</td>\n",
       "      <td>0</td>\n",
       "      <td>8</td>\n",
       "      <td>NaN</td>\n",
       "      <td>NaN</td>\n",
       "      <td>7969</td>\n",
       "    </tr>\n",
       "  </tbody>\n",
       "</table>\n",
       "</div>"
      ],
      "text/plain": [
       "   User_ID Product_ID Gender   Age  Occupation City_Category  \\\n",
       "0  1000001  P00069042      F  0-17          10             A   \n",
       "1  1000001  P00248942      F  0-17          10             A   \n",
       "2  1000001  P00087842      F  0-17          10             A   \n",
       "3  1000001  P00085442      F  0-17          10             A   \n",
       "4  1000002  P00285442      M   55+          16             C   \n",
       "\n",
       "  Stay_In_Current_City_Years  Marital_Status  Product_Category_1  \\\n",
       "0                          2               0                   3   \n",
       "1                          2               0                   1   \n",
       "2                          2               0                  12   \n",
       "3                          2               0                  12   \n",
       "4                         4+               0                   8   \n",
       "\n",
       "   Product_Category_2  Product_Category_3  Purchase  \n",
       "0                 NaN                 NaN      8370  \n",
       "1                 6.0                14.0     15200  \n",
       "2                 NaN                 NaN      1422  \n",
       "3                14.0                 NaN      1057  \n",
       "4                 NaN                 NaN      7969  "
      ]
     },
     "execution_count": 7,
     "metadata": {},
     "output_type": "execute_result"
    }
   ],
   "source": [
    "dataframe1.head()"
   ]
  },
  {
   "cell_type": "code",
   "execution_count": 8,
   "id": "9724df82",
   "metadata": {},
   "outputs": [],
   "source": [
    "dataframe1.drop(columns=['User_ID','Product_ID','Product_Category_3'],axis=1,inplace=True)"
   ]
  },
  {
   "cell_type": "markdown",
   "id": "ee15dacd",
   "metadata": {},
   "source": [
    "# The above dataset is having lot of null values its more than 60% so we are droping that column and product_2 columns fill with mean()"
   ]
  },
  {
   "cell_type": "code",
   "execution_count": 9,
   "id": "52b92ad8",
   "metadata": {},
   "outputs": [],
   "source": [
    "dataframe1.fillna(dataframe1[\"Product_Category_2\"].median(),inplace=True)"
   ]
  },
  {
   "cell_type": "code",
   "execution_count": 10,
   "id": "58f2dac6",
   "metadata": {},
   "outputs": [
    {
     "data": {
      "text/plain": [
       "Gender                        0\n",
       "Age                           0\n",
       "Occupation                    0\n",
       "City_Category                 0\n",
       "Stay_In_Current_City_Years    0\n",
       "Marital_Status                0\n",
       "Product_Category_1            0\n",
       "Product_Category_2            0\n",
       "Purchase                      0\n",
       "dtype: int64"
      ]
     },
     "execution_count": 10,
     "metadata": {},
     "output_type": "execute_result"
    }
   ],
   "source": [
    "dataframe1.isnull().sum()"
   ]
  },
  {
   "cell_type": "markdown",
   "id": "1f40b54c",
   "metadata": {},
   "source": [
    "# 5.handling outliers "
   ]
  },
  {
   "cell_type": "raw",
   "id": "7106ec55",
   "metadata": {},
   "source": [
    "# checking outliers by using boxplot"
   ]
  },
  {
   "cell_type": "code",
   "execution_count": 11,
   "id": "1680a996",
   "metadata": {},
   "outputs": [
    {
     "data": {
      "image/png": "[encoded data removed]",
      "text/plain": [
       "<Figure size 800x600 with 1 Axes>"
      ]
     },
     "metadata": {},
     "output_type": "display_data"
    }
   ],
   "source": [
    "numeric_columns=dataframe1.select_dtypes(include=['number']).columns.tolist()\n",
    "plt.figure(figsize=(8,6))\n",
    "plt.boxplot(dataframe1[numeric_columns].values)\n",
    "plt.xticks(ticks=range(1,len(numeric_columns)+1),labels=numeric_columns)\n",
    "plt.show()"
   ]
  },
  {
   "cell_type": "raw",
   "id": "2bbb2e1a",
   "metadata": {},
   "source": [
    "# percentage of outliers "
   ]
  },
  {
   "cell_type": "code",
   "execution_count": 12,
   "id": "8c3e8452",
   "metadata": {},
   "outputs": [
    {
     "name": "stdout",
     "output_type": "stream",
     "text": [
      "Percentage of outliers 0.24833293338278176\n"
     ]
    }
   ],
   "source": [
    "numeric_columns=dataframe1.select_dtypes(include=['number'])\n",
    "Q1=numeric_columns.quantile(0.25)\n",
    "Q3=numeric_columns.quantile(0.75)\n",
    "IQR=Q3-Q1\n",
    "lower_threshold=Q1-1.5*IQR\n",
    "upper_threshold=Q3+1.5*IQR\n",
    "outliers=((numeric_columns<lower_threshold)|(numeric_columns>upper_threshold)).sum()\n",
    "total_data_points=numeric_columns.size\n",
    "total_outliers=outliers.sum()\n",
    "percentage_outliers=(total_outliers/total_data_points)*100\n",
    "print(\"Percentage of outliers\",percentage_outliers)"
   ]
  },
  {
   "cell_type": "markdown",
   "id": "7caa9fcd",
   "metadata": {},
   "source": [
    "Here the above ouliers are less than 1% so,the outliers are neglisable "
   ]
  },
  {
   "cell_type": "code",
   "execution_count": 13,
   "id": "d2bb77ef",
   "metadata": {},
   "outputs": [
    {
     "data": {
      "text/plain": [
       "(550068, 9)"
      ]
     },
     "execution_count": 13,
     "metadata": {},
     "output_type": "execute_result"
    }
   ],
   "source": [
    "dataframe1.shape"
   ]
  },
  {
   "cell_type": "code",
   "execution_count": 14,
   "id": "b03a205a",
   "metadata": {},
   "outputs": [
    {
     "data": {
      "text/html": [
       "<div>\n",
       "<style scoped>\n",
       "    .dataframe tbody tr th:only-of-type {\n",
       "        vertical-align: middle;\n",
       "    }\n",
       "\n",
       "    .dataframe tbody tr th {\n",
       "        vertical-align: top;\n",
       "    }\n",
       "\n",
       "    .dataframe thead th {\n",
       "        text-align: right;\n",
       "    }\n",
       "</style>\n",
       "<table border=\"1\" class=\"dataframe\">\n",
       "  <thead>\n",
       "    <tr style=\"text-align: right;\">\n",
       "      <th></th>\n",
       "      <th>Gender</th>\n",
       "      <th>Age</th>\n",
       "      <th>Occupation</th>\n",
       "      <th>City_Category</th>\n",
       "      <th>Stay_In_Current_City_Years</th>\n",
       "      <th>Marital_Status</th>\n",
       "      <th>Product_Category_1</th>\n",
       "      <th>Product_Category_2</th>\n",
       "      <th>Purchase</th>\n",
       "    </tr>\n",
       "  </thead>\n",
       "  <tbody>\n",
       "    <tr>\n",
       "      <th>0</th>\n",
       "      <td>F</td>\n",
       "      <td>0-17</td>\n",
       "      <td>10</td>\n",
       "      <td>A</td>\n",
       "      <td>2</td>\n",
       "      <td>0</td>\n",
       "      <td>3</td>\n",
       "      <td>9.0</td>\n",
       "      <td>8370</td>\n",
       "    </tr>\n",
       "    <tr>\n",
       "      <th>1</th>\n",
       "      <td>F</td>\n",
       "      <td>0-17</td>\n",
       "      <td>10</td>\n",
       "      <td>A</td>\n",
       "      <td>2</td>\n",
       "      <td>0</td>\n",
       "      <td>1</td>\n",
       "      <td>6.0</td>\n",
       "      <td>15200</td>\n",
       "    </tr>\n",
       "    <tr>\n",
       "      <th>2</th>\n",
       "      <td>F</td>\n",
       "      <td>0-17</td>\n",
       "      <td>10</td>\n",
       "      <td>A</td>\n",
       "      <td>2</td>\n",
       "      <td>0</td>\n",
       "      <td>12</td>\n",
       "      <td>9.0</td>\n",
       "      <td>1422</td>\n",
       "    </tr>\n",
       "    <tr>\n",
       "      <th>3</th>\n",
       "      <td>F</td>\n",
       "      <td>0-17</td>\n",
       "      <td>10</td>\n",
       "      <td>A</td>\n",
       "      <td>2</td>\n",
       "      <td>0</td>\n",
       "      <td>12</td>\n",
       "      <td>14.0</td>\n",
       "      <td>1057</td>\n",
       "    </tr>\n",
       "    <tr>\n",
       "      <th>4</th>\n",
       "      <td>M</td>\n",
       "      <td>55+</td>\n",
       "      <td>16</td>\n",
       "      <td>C</td>\n",
       "      <td>4+</td>\n",
       "      <td>0</td>\n",
       "      <td>8</td>\n",
       "      <td>9.0</td>\n",
       "      <td>7969</td>\n",
       "    </tr>\n",
       "  </tbody>\n",
       "</table>\n",
       "</div>"
      ],
      "text/plain": [
       "  Gender   Age  Occupation City_Category Stay_In_Current_City_Years  \\\n",
       "0      F  0-17          10             A                          2   \n",
       "1      F  0-17          10             A                          2   \n",
       "2      F  0-17          10             A                          2   \n",
       "3      F  0-17          10             A                          2   \n",
       "4      M   55+          16             C                         4+   \n",
       "\n",
       "   Marital_Status  Product_Category_1  Product_Category_2  Purchase  \n",
       "0               0                   3                 9.0      8370  \n",
       "1               0                   1                 6.0     15200  \n",
       "2               0                  12                 9.0      1422  \n",
       "3               0                  12                14.0      1057  \n",
       "4               0                   8                 9.0      7969  "
      ]
     },
     "execution_count": 14,
     "metadata": {},
     "output_type": "execute_result"
    }
   ],
   "source": [
    "dataframe1.head()"
   ]
  },
  {
   "cell_type": "code",
   "execution_count": 15,
   "id": "a4341a6a",
   "metadata": {},
   "outputs": [
    {
     "data": {
      "text/plain": [
       "Gender                         object\n",
       "Age                            object\n",
       "Occupation                      int64\n",
       "City_Category                  object\n",
       "Stay_In_Current_City_Years     object\n",
       "Marital_Status                  int64\n",
       "Product_Category_1              int64\n",
       "Product_Category_2            float64\n",
       "Purchase                        int64\n",
       "dtype: object"
      ]
     },
     "execution_count": 15,
     "metadata": {},
     "output_type": "execute_result"
    }
   ],
   "source": [
    "dataframe1.dtypes"
   ]
  },
  {
   "cell_type": "code",
   "execution_count": 16,
   "id": "f25ff0a4",
   "metadata": {},
   "outputs": [
    {
     "data": {
      "text/plain": [
       "array(['0-17', '55+', '26-35', '46-50', '51-55', '36-45', '18-25'],\n",
       "      dtype=object)"
      ]
     },
     "execution_count": 16,
     "metadata": {},
     "output_type": "execute_result"
    }
   ],
   "source": [
    "# checking the age column \n",
    "dataframe1['Age'].unique()"
   ]
  },
  {
   "cell_type": "code",
   "execution_count": 17,
   "id": "a3d96b7b",
   "metadata": {},
   "outputs": [
    {
     "data": {
      "text/plain": [
       "array(['0-17', '55', '26-35', '46-50', '51-55', '36-45', '18-25'],\n",
       "      dtype=object)"
      ]
     },
     "execution_count": 17,
     "metadata": {},
     "output_type": "execute_result"
    }
   ],
   "source": [
    "dataframe1['Age']=dataframe1['Age'].replace(\"55+\",'55')\n",
    "dataframe1['Age'].unique()"
   ]
  },
  {
   "cell_type": "markdown",
   "id": "ff93462b",
   "metadata": {},
   "source": [
    "changing the columns dtypes of the Age columns"
   ]
  },
  {
   "cell_type": "code",
   "execution_count": 18,
   "id": "7a747e34",
   "metadata": {},
   "outputs": [
    {
     "data": {
      "text/plain": [
       "0          0-17\n",
       "1          0-17\n",
       "2          0-17\n",
       "3          0-17\n",
       "4            55\n",
       "          ...  \n",
       "550063    51-55\n",
       "550064    26-35\n",
       "550065    26-35\n",
       "550066       55\n",
       "550067    46-50\n",
       "Name: Age, Length: 550068, dtype: object"
      ]
     },
     "execution_count": 18,
     "metadata": {},
     "output_type": "execute_result"
    }
   ],
   "source": [
    "dataframe1['Age']"
   ]
  },
  {
   "cell_type": "code",
   "execution_count": 19,
   "id": "0e15af09",
   "metadata": {},
   "outputs": [
    {
     "name": "stdout",
     "output_type": "stream",
     "text": [
      "Gender                         object\n",
      "Age                             int64\n",
      "Occupation                      int64\n",
      "City_Category                  object\n",
      "Stay_In_Current_City_Years     object\n",
      "Marital_Status                  int64\n",
      "Product_Category_1              int64\n",
      "Product_Category_2            float64\n",
      "Purchase                        int64\n",
      "dtype: object\n"
     ]
    }
   ],
   "source": [
    "def extract_age(x):\n",
    "    age_parts = x.split('-')\n",
    "    if len(age_parts) == 2:  # Check if split operation is successful\n",
    "        return int(age_parts[1].replace('+', ''))\n",
    "    else:\n",
    "        return int(age_parts[0].replace('+', ''))\n",
    "\n",
    "# Apply the function to 'Age' column\n",
    "dataframe1['Age'] = dataframe1['Age'].apply(extract_age)\n",
    "\n",
    "print(dataframe1.dtypes)"
   ]
  },
  {
   "cell_type": "code",
   "execution_count": 20,
   "id": "228f9c4c",
   "metadata": {},
   "outputs": [
    {
     "data": {
      "text/plain": [
       "0         17\n",
       "1         17\n",
       "2         17\n",
       "3         17\n",
       "4         55\n",
       "          ..\n",
       "550063    55\n",
       "550064    35\n",
       "550065    35\n",
       "550066    55\n",
       "550067    50\n",
       "Name: Age, Length: 550068, dtype: int64"
      ]
     },
     "execution_count": 20,
     "metadata": {},
     "output_type": "execute_result"
    }
   ],
   "source": [
    "dataframe1['Age']"
   ]
  },
  {
   "cell_type": "markdown",
   "id": "1cc067de",
   "metadata": {},
   "source": [
    "Using the count plot for the checking of the data of age"
   ]
  },
  {
   "cell_type": "code",
   "execution_count": 21,
   "id": "1c0d3d77",
   "metadata": {},
   "outputs": [
    {
     "data": {
      "image/png": "[encoded data removed]",
      "text/plain": [
       "<Figure size 640x480 with 1 Axes>"
      ]
     },
     "metadata": {},
     "output_type": "display_data"
    }
   ],
   "source": [
    "sns.countplot(x=dataframe1['Age'])\n",
    "plt.show()"
   ]
  },
  {
   "cell_type": "markdown",
   "id": "30307fd5",
   "metadata": {},
   "source": [
    " Checking the Stay_In_Current_City_Years column"
   ]
  },
  {
   "cell_type": "code",
   "execution_count": 22,
   "id": "5af41848",
   "metadata": {},
   "outputs": [
    {
     "data": {
      "text/plain": [
       "array(['2', '4+', '3', '1', '0'], dtype=object)"
      ]
     },
     "execution_count": 22,
     "metadata": {},
     "output_type": "execute_result"
    }
   ],
   "source": [
    "dataframe1['Stay_In_Current_City_Years'].unique()"
   ]
  },
  {
   "cell_type": "code",
   "execution_count": 23,
   "id": "66db9276",
   "metadata": {},
   "outputs": [],
   "source": [
    "dataframe1['Stay_In_Current_City_Years'].replace(\"4+\",\"4\",inplace=True)"
   ]
  },
  {
   "cell_type": "code",
   "execution_count": 24,
   "id": "674ef6c3",
   "metadata": {},
   "outputs": [
    {
     "data": {
      "text/plain": [
       "84726"
      ]
     },
     "execution_count": 24,
     "metadata": {},
     "output_type": "execute_result"
    }
   ],
   "source": [
    "r=dataframe1['Stay_In_Current_City_Years'].value_counts()[\"4\"]\n",
    "r"
   ]
  },
  {
   "cell_type": "code",
   "execution_count": 25,
   "id": "133b0056",
   "metadata": {},
   "outputs": [
    {
     "data": {
      "text/plain": [
       "Gender                         object\n",
       "Age                             int64\n",
       "Occupation                      int64\n",
       "City_Category                  object\n",
       "Stay_In_Current_City_Years     object\n",
       "Marital_Status                  int64\n",
       "Product_Category_1              int64\n",
       "Product_Category_2            float64\n",
       "Purchase                        int64\n",
       "dtype: object"
      ]
     },
     "execution_count": 25,
     "metadata": {},
     "output_type": "execute_result"
    }
   ],
   "source": [
    "dataframe1.dtypes"
   ]
  },
  {
   "cell_type": "code",
   "execution_count": 26,
   "id": "e809cc6c",
   "metadata": {},
   "outputs": [
    {
     "data": {
      "text/html": [
       "<div>\n",
       "<style scoped>\n",
       "    .dataframe tbody tr th:only-of-type {\n",
       "        vertical-align: middle;\n",
       "    }\n",
       "\n",
       "    .dataframe tbody tr th {\n",
       "        vertical-align: top;\n",
       "    }\n",
       "\n",
       "    .dataframe thead th {\n",
       "        text-align: right;\n",
       "    }\n",
       "</style>\n",
       "<table border=\"1\" class=\"dataframe\">\n",
       "  <thead>\n",
       "    <tr style=\"text-align: right;\">\n",
       "      <th></th>\n",
       "      <th>Gender</th>\n",
       "      <th>Age</th>\n",
       "      <th>Occupation</th>\n",
       "      <th>City_Category</th>\n",
       "      <th>Stay_In_Current_City_Years</th>\n",
       "      <th>Marital_Status</th>\n",
       "      <th>Product_Category_1</th>\n",
       "      <th>Product_Category_2</th>\n",
       "      <th>Purchase</th>\n",
       "    </tr>\n",
       "  </thead>\n",
       "  <tbody>\n",
       "    <tr>\n",
       "      <th>0</th>\n",
       "      <td>F</td>\n",
       "      <td>17</td>\n",
       "      <td>10</td>\n",
       "      <td>A</td>\n",
       "      <td>2</td>\n",
       "      <td>0</td>\n",
       "      <td>3</td>\n",
       "      <td>9.0</td>\n",
       "      <td>8370</td>\n",
       "    </tr>\n",
       "    <tr>\n",
       "      <th>1</th>\n",
       "      <td>F</td>\n",
       "      <td>17</td>\n",
       "      <td>10</td>\n",
       "      <td>A</td>\n",
       "      <td>2</td>\n",
       "      <td>0</td>\n",
       "      <td>1</td>\n",
       "      <td>6.0</td>\n",
       "      <td>15200</td>\n",
       "    </tr>\n",
       "    <tr>\n",
       "      <th>2</th>\n",
       "      <td>F</td>\n",
       "      <td>17</td>\n",
       "      <td>10</td>\n",
       "      <td>A</td>\n",
       "      <td>2</td>\n",
       "      <td>0</td>\n",
       "      <td>12</td>\n",
       "      <td>9.0</td>\n",
       "      <td>1422</td>\n",
       "    </tr>\n",
       "    <tr>\n",
       "      <th>3</th>\n",
       "      <td>F</td>\n",
       "      <td>17</td>\n",
       "      <td>10</td>\n",
       "      <td>A</td>\n",
       "      <td>2</td>\n",
       "      <td>0</td>\n",
       "      <td>12</td>\n",
       "      <td>14.0</td>\n",
       "      <td>1057</td>\n",
       "    </tr>\n",
       "    <tr>\n",
       "      <th>4</th>\n",
       "      <td>M</td>\n",
       "      <td>55</td>\n",
       "      <td>16</td>\n",
       "      <td>C</td>\n",
       "      <td>4</td>\n",
       "      <td>0</td>\n",
       "      <td>8</td>\n",
       "      <td>9.0</td>\n",
       "      <td>7969</td>\n",
       "    </tr>\n",
       "  </tbody>\n",
       "</table>\n",
       "</div>"
      ],
      "text/plain": [
       "  Gender  Age  Occupation City_Category Stay_In_Current_City_Years  \\\n",
       "0      F   17          10             A                          2   \n",
       "1      F   17          10             A                          2   \n",
       "2      F   17          10             A                          2   \n",
       "3      F   17          10             A                          2   \n",
       "4      M   55          16             C                          4   \n",
       "\n",
       "   Marital_Status  Product_Category_1  Product_Category_2  Purchase  \n",
       "0               0                   3                 9.0      8370  \n",
       "1               0                   1                 6.0     15200  \n",
       "2               0                  12                 9.0      1422  \n",
       "3               0                  12                14.0      1057  \n",
       "4               0                   8                 9.0      7969  "
      ]
     },
     "execution_count": 26,
     "metadata": {},
     "output_type": "execute_result"
    }
   ],
   "source": [
    "dataframe1.head()"
   ]
  },
  {
   "cell_type": "markdown",
   "id": "2a44246f",
   "metadata": {},
   "source": [
    "# 6.Using the labelencoding for the checking the correlation of the each columns"
   ]
  },
  {
   "cell_type": "code",
   "execution_count": 27,
   "id": "1be24d5b",
   "metadata": {},
   "outputs": [
    {
     "data": {
      "text/html": [
       "<div>\n",
       "<style scoped>\n",
       "    .dataframe tbody tr th:only-of-type {\n",
       "        vertical-align: middle;\n",
       "    }\n",
       "\n",
       "    .dataframe tbody tr th {\n",
       "        vertical-align: top;\n",
       "    }\n",
       "\n",
       "    .dataframe thead th {\n",
       "        text-align: right;\n",
       "    }\n",
       "</style>\n",
       "<table border=\"1\" class=\"dataframe\">\n",
       "  <thead>\n",
       "    <tr style=\"text-align: right;\">\n",
       "      <th></th>\n",
       "      <th>Gender</th>\n",
       "      <th>Age</th>\n",
       "      <th>Occupation</th>\n",
       "      <th>City_Category</th>\n",
       "      <th>Stay_In_Current_City_Years</th>\n",
       "      <th>Marital_Status</th>\n",
       "      <th>Product_Category_1</th>\n",
       "      <th>Product_Category_2</th>\n",
       "      <th>Purchase</th>\n",
       "    </tr>\n",
       "  </thead>\n",
       "  <tbody>\n",
       "    <tr>\n",
       "      <th>0</th>\n",
       "      <td>0</td>\n",
       "      <td>17</td>\n",
       "      <td>10</td>\n",
       "      <td>0</td>\n",
       "      <td>2</td>\n",
       "      <td>0</td>\n",
       "      <td>3</td>\n",
       "      <td>9.0</td>\n",
       "      <td>8370</td>\n",
       "    </tr>\n",
       "    <tr>\n",
       "      <th>1</th>\n",
       "      <td>0</td>\n",
       "      <td>17</td>\n",
       "      <td>10</td>\n",
       "      <td>0</td>\n",
       "      <td>2</td>\n",
       "      <td>0</td>\n",
       "      <td>1</td>\n",
       "      <td>6.0</td>\n",
       "      <td>15200</td>\n",
       "    </tr>\n",
       "    <tr>\n",
       "      <th>2</th>\n",
       "      <td>0</td>\n",
       "      <td>17</td>\n",
       "      <td>10</td>\n",
       "      <td>0</td>\n",
       "      <td>2</td>\n",
       "      <td>0</td>\n",
       "      <td>12</td>\n",
       "      <td>9.0</td>\n",
       "      <td>1422</td>\n",
       "    </tr>\n",
       "    <tr>\n",
       "      <th>3</th>\n",
       "      <td>0</td>\n",
       "      <td>17</td>\n",
       "      <td>10</td>\n",
       "      <td>0</td>\n",
       "      <td>2</td>\n",
       "      <td>0</td>\n",
       "      <td>12</td>\n",
       "      <td>14.0</td>\n",
       "      <td>1057</td>\n",
       "    </tr>\n",
       "    <tr>\n",
       "      <th>4</th>\n",
       "      <td>1</td>\n",
       "      <td>55</td>\n",
       "      <td>16</td>\n",
       "      <td>2</td>\n",
       "      <td>4</td>\n",
       "      <td>0</td>\n",
       "      <td>8</td>\n",
       "      <td>9.0</td>\n",
       "      <td>7969</td>\n",
       "    </tr>\n",
       "  </tbody>\n",
       "</table>\n",
       "</div>"
      ],
      "text/plain": [
       "   Gender  Age  Occupation  City_Category Stay_In_Current_City_Years  \\\n",
       "0       0   17          10              0                          2   \n",
       "1       0   17          10              0                          2   \n",
       "2       0   17          10              0                          2   \n",
       "3       0   17          10              0                          2   \n",
       "4       1   55          16              2                          4   \n",
       "\n",
       "   Marital_Status  Product_Category_1  Product_Category_2  Purchase  \n",
       "0               0                   3                 9.0      8370  \n",
       "1               0                   1                 6.0     15200  \n",
       "2               0                  12                 9.0      1422  \n",
       "3               0                  12                14.0      1057  \n",
       "4               0                   8                 9.0      7969  "
      ]
     },
     "execution_count": 27,
     "metadata": {},
     "output_type": "execute_result"
    }
   ],
   "source": [
    "label_encoder=LabelEncoder()\n",
    "dataframe1['Gender'] =label_encoder.fit_transform(dataframe1['Gender'])\n",
    "dataframe1['City_Category']=label_encoder.fit_transform(dataframe1['City_Category'])\n",
    "dataframe1.head()"
   ]
  },
  {
   "cell_type": "markdown",
   "id": "e04aefb8",
   "metadata": {},
   "source": [
    "# 7.Here  checking the correlation of the each columns"
   ]
  },
  {
   "cell_type": "code",
   "execution_count": 28,
   "id": "c8759735",
   "metadata": {},
   "outputs": [
    {
     "data": {
      "text/html": [
       "<div>\n",
       "<style scoped>\n",
       "    .dataframe tbody tr th:only-of-type {\n",
       "        vertical-align: middle;\n",
       "    }\n",
       "\n",
       "    .dataframe tbody tr th {\n",
       "        vertical-align: top;\n",
       "    }\n",
       "\n",
       "    .dataframe thead th {\n",
       "        text-align: right;\n",
       "    }\n",
       "</style>\n",
       "<table border=\"1\" class=\"dataframe\">\n",
       "  <thead>\n",
       "    <tr style=\"text-align: right;\">\n",
       "      <th></th>\n",
       "      <th>Gender</th>\n",
       "      <th>Age</th>\n",
       "      <th>Occupation</th>\n",
       "      <th>City_Category</th>\n",
       "      <th>Stay_In_Current_City_Years</th>\n",
       "      <th>Marital_Status</th>\n",
       "      <th>Product_Category_1</th>\n",
       "      <th>Product_Category_2</th>\n",
       "      <th>Purchase</th>\n",
       "    </tr>\n",
       "  </thead>\n",
       "  <tbody>\n",
       "    <tr>\n",
       "      <th>Gender</th>\n",
       "      <td>1.000000</td>\n",
       "      <td>-0.003150</td>\n",
       "      <td>0.117291</td>\n",
       "      <td>-0.004515</td>\n",
       "      <td>0.014660</td>\n",
       "      <td>-0.011603</td>\n",
       "      <td>-0.045594</td>\n",
       "      <td>-0.014051</td>\n",
       "      <td>0.060346</td>\n",
       "    </tr>\n",
       "    <tr>\n",
       "      <th>Age</th>\n",
       "      <td>-0.003150</td>\n",
       "      <td>1.000000</td>\n",
       "      <td>0.096812</td>\n",
       "      <td>0.102825</td>\n",
       "      <td>-0.002128</td>\n",
       "      <td>0.312095</td>\n",
       "      <td>0.059216</td>\n",
       "      <td>0.044192</td>\n",
       "      <td>0.016670</td>\n",
       "    </tr>\n",
       "    <tr>\n",
       "      <th>Occupation</th>\n",
       "      <td>0.117291</td>\n",
       "      <td>0.096812</td>\n",
       "      <td>1.000000</td>\n",
       "      <td>0.034479</td>\n",
       "      <td>0.030005</td>\n",
       "      <td>0.024280</td>\n",
       "      <td>-0.007618</td>\n",
       "      <td>0.000557</td>\n",
       "      <td>0.020833</td>\n",
       "    </tr>\n",
       "    <tr>\n",
       "      <th>City_Category</th>\n",
       "      <td>-0.004515</td>\n",
       "      <td>0.102825</td>\n",
       "      <td>0.034479</td>\n",
       "      <td>1.000000</td>\n",
       "      <td>0.019946</td>\n",
       "      <td>0.039790</td>\n",
       "      <td>-0.014364</td>\n",
       "      <td>-0.006888</td>\n",
       "      <td>0.061914</td>\n",
       "    </tr>\n",
       "    <tr>\n",
       "      <th>Stay_In_Current_City_Years</th>\n",
       "      <td>0.014660</td>\n",
       "      <td>-0.002128</td>\n",
       "      <td>0.030005</td>\n",
       "      <td>0.019946</td>\n",
       "      <td>1.000000</td>\n",
       "      <td>-0.012819</td>\n",
       "      <td>-0.004213</td>\n",
       "      <td>-0.001087</td>\n",
       "      <td>0.005422</td>\n",
       "    </tr>\n",
       "    <tr>\n",
       "      <th>Marital_Status</th>\n",
       "      <td>-0.011603</td>\n",
       "      <td>0.312095</td>\n",
       "      <td>0.024280</td>\n",
       "      <td>0.039790</td>\n",
       "      <td>-0.012819</td>\n",
       "      <td>1.000000</td>\n",
       "      <td>0.019888</td>\n",
       "      <td>0.011526</td>\n",
       "      <td>-0.000463</td>\n",
       "    </tr>\n",
       "    <tr>\n",
       "      <th>Product_Category_1</th>\n",
       "      <td>-0.045594</td>\n",
       "      <td>0.059216</td>\n",
       "      <td>-0.007618</td>\n",
       "      <td>-0.014364</td>\n",
       "      <td>-0.004213</td>\n",
       "      <td>0.019888</td>\n",
       "      <td>1.000000</td>\n",
       "      <td>0.331691</td>\n",
       "      <td>-0.343703</td>\n",
       "    </tr>\n",
       "    <tr>\n",
       "      <th>Product_Category_2</th>\n",
       "      <td>-0.014051</td>\n",
       "      <td>0.044192</td>\n",
       "      <td>0.000557</td>\n",
       "      <td>-0.006888</td>\n",
       "      <td>-0.001087</td>\n",
       "      <td>0.011526</td>\n",
       "      <td>0.331691</td>\n",
       "      <td>1.000000</td>\n",
       "      <td>-0.156676</td>\n",
       "    </tr>\n",
       "    <tr>\n",
       "      <th>Purchase</th>\n",
       "      <td>0.060346</td>\n",
       "      <td>0.016670</td>\n",
       "      <td>0.020833</td>\n",
       "      <td>0.061914</td>\n",
       "      <td>0.005422</td>\n",
       "      <td>-0.000463</td>\n",
       "      <td>-0.343703</td>\n",
       "      <td>-0.156676</td>\n",
       "      <td>1.000000</td>\n",
       "    </tr>\n",
       "  </tbody>\n",
       "</table>\n",
       "</div>"
      ],
      "text/plain": [
       "                              Gender       Age  Occupation  City_Category  \\\n",
       "Gender                      1.000000 -0.003150    0.117291      -0.004515   \n",
       "Age                        -0.003150  1.000000    0.096812       0.102825   \n",
       "Occupation                  0.117291  0.096812    1.000000       0.034479   \n",
       "City_Category              -0.004515  0.102825    0.034479       1.000000   \n",
       "Stay_In_Current_City_Years  0.014660 -0.002128    0.030005       0.019946   \n",
       "Marital_Status             -0.011603  0.312095    0.024280       0.039790   \n",
       "Product_Category_1         -0.045594  0.059216   -0.007618      -0.014364   \n",
       "Product_Category_2         -0.014051  0.044192    0.000557      -0.006888   \n",
       "Purchase                    0.060346  0.016670    0.020833       0.061914   \n",
       "\n",
       "                            Stay_In_Current_City_Years  Marital_Status  \\\n",
       "Gender                                        0.014660       -0.011603   \n",
       "Age                                          -0.002128        0.312095   \n",
       "Occupation                                    0.030005        0.024280   \n",
       "City_Category                                 0.019946        0.039790   \n",
       "Stay_In_Current_City_Years                    1.000000       -0.012819   \n",
       "Marital_Status                               -0.012819        1.000000   \n",
       "Product_Category_1                           -0.004213        0.019888   \n",
       "Product_Category_2                           -0.001087        0.011526   \n",
       "Purchase                                      0.005422       -0.000463   \n",
       "\n",
       "                            Product_Category_1  Product_Category_2  Purchase  \n",
       "Gender                               -0.045594           -0.014051  0.060346  \n",
       "Age                                   0.059216            0.044192  0.016670  \n",
       "Occupation                           -0.007618            0.000557  0.020833  \n",
       "City_Category                        -0.014364           -0.006888  0.061914  \n",
       "Stay_In_Current_City_Years           -0.004213           -0.001087  0.005422  \n",
       "Marital_Status                        0.019888            0.011526 -0.000463  \n",
       "Product_Category_1                    1.000000            0.331691 -0.343703  \n",
       "Product_Category_2                    0.331691            1.000000 -0.156676  \n",
       "Purchase                             -0.343703           -0.156676  1.000000  "
      ]
     },
     "execution_count": 28,
     "metadata": {},
     "output_type": "execute_result"
    }
   ],
   "source": [
    "data=dataframe1.corr()\n",
    "data"
   ]
  },
  {
   "cell_type": "markdown",
   "id": "a875f408",
   "metadata": {},
   "source": [
    "# 7.1.Using the heatmap to find the correlation of the dataframe1"
   ]
  },
  {
   "cell_type": "code",
   "execution_count": 29,
   "id": "421ae5e2",
   "metadata": {},
   "outputs": [
    {
     "data": {
      "text/plain": [
       "<Axes: >"
      ]
     },
     "execution_count": 29,
     "metadata": {},
     "output_type": "execute_result"
    },
    {
     "data": {
      "image/png": "[encoded data removed]",
      "text/plain": [
       "<Figure size 1400x1200 with 2 Axes>"
      ]
     },
     "metadata": {},
     "output_type": "display_data"
    }
   ],
   "source": [
    "plt.figure(figsize=(14,12))\n",
    "sns.heatmap(data, annot=True)"
   ]
  },
  {
   "cell_type": "markdown",
   "id": "7a065cf2",
   "metadata": {},
   "source": [
    "---> The above columns is checking the correlation of each column and the above columns Matital_Status column getting low correlation of the target variabel that way the columns is dropped"
   ]
  },
  {
   "cell_type": "code",
   "execution_count": 30,
   "id": "17550907",
   "metadata": {},
   "outputs": [
    {
     "data": {
      "text/html": [
       "<div>\n",
       "<style scoped>\n",
       "    .dataframe tbody tr th:only-of-type {\n",
       "        vertical-align: middle;\n",
       "    }\n",
       "\n",
       "    .dataframe tbody tr th {\n",
       "        vertical-align: top;\n",
       "    }\n",
       "\n",
       "    .dataframe thead th {\n",
       "        text-align: right;\n",
       "    }\n",
       "</style>\n",
       "<table border=\"1\" class=\"dataframe\">\n",
       "  <thead>\n",
       "    <tr style=\"text-align: right;\">\n",
       "      <th></th>\n",
       "      <th>Gender</th>\n",
       "      <th>Age</th>\n",
       "      <th>Occupation</th>\n",
       "      <th>City_Category</th>\n",
       "      <th>Stay_In_Current_City_Years</th>\n",
       "      <th>Product_Category_1</th>\n",
       "      <th>Product_Category_2</th>\n",
       "      <th>Purchase</th>\n",
       "    </tr>\n",
       "  </thead>\n",
       "  <tbody>\n",
       "    <tr>\n",
       "      <th>0</th>\n",
       "      <td>0</td>\n",
       "      <td>17</td>\n",
       "      <td>10</td>\n",
       "      <td>0</td>\n",
       "      <td>2</td>\n",
       "      <td>3</td>\n",
       "      <td>9.0</td>\n",
       "      <td>8370</td>\n",
       "    </tr>\n",
       "    <tr>\n",
       "      <th>1</th>\n",
       "      <td>0</td>\n",
       "      <td>17</td>\n",
       "      <td>10</td>\n",
       "      <td>0</td>\n",
       "      <td>2</td>\n",
       "      <td>1</td>\n",
       "      <td>6.0</td>\n",
       "      <td>15200</td>\n",
       "    </tr>\n",
       "    <tr>\n",
       "      <th>2</th>\n",
       "      <td>0</td>\n",
       "      <td>17</td>\n",
       "      <td>10</td>\n",
       "      <td>0</td>\n",
       "      <td>2</td>\n",
       "      <td>12</td>\n",
       "      <td>9.0</td>\n",
       "      <td>1422</td>\n",
       "    </tr>\n",
       "    <tr>\n",
       "      <th>3</th>\n",
       "      <td>0</td>\n",
       "      <td>17</td>\n",
       "      <td>10</td>\n",
       "      <td>0</td>\n",
       "      <td>2</td>\n",
       "      <td>12</td>\n",
       "      <td>14.0</td>\n",
       "      <td>1057</td>\n",
       "    </tr>\n",
       "    <tr>\n",
       "      <th>4</th>\n",
       "      <td>1</td>\n",
       "      <td>55</td>\n",
       "      <td>16</td>\n",
       "      <td>2</td>\n",
       "      <td>4</td>\n",
       "      <td>8</td>\n",
       "      <td>9.0</td>\n",
       "      <td>7969</td>\n",
       "    </tr>\n",
       "  </tbody>\n",
       "</table>\n",
       "</div>"
      ],
      "text/plain": [
       "   Gender  Age  Occupation  City_Category Stay_In_Current_City_Years  \\\n",
       "0       0   17          10              0                          2   \n",
       "1       0   17          10              0                          2   \n",
       "2       0   17          10              0                          2   \n",
       "3       0   17          10              0                          2   \n",
       "4       1   55          16              2                          4   \n",
       "\n",
       "   Product_Category_1  Product_Category_2  Purchase  \n",
       "0                   3                 9.0      8370  \n",
       "1                   1                 6.0     15200  \n",
       "2                  12                 9.0      1422  \n",
       "3                  12                14.0      1057  \n",
       "4                   8                 9.0      7969  "
      ]
     },
     "execution_count": 30,
     "metadata": {},
     "output_type": "execute_result"
    }
   ],
   "source": [
    "dataframe1.drop(columns=['Marital_Status'],axis=1,inplace=True)\n",
    "dataframe1.head()"
   ]
  },
  {
   "cell_type": "markdown",
   "id": "5feec495",
   "metadata": {},
   "source": [
    "# 8.checking the skewness "
   ]
  },
  {
   "cell_type": "markdown",
   "id": "a40944b1",
   "metadata": {},
   "source": [
    "-->The column name product_category_1 is having the skewness ,using the log to reduce the skewness"
   ]
  },
  {
   "cell_type": "code",
   "execution_count": 31,
   "id": "5eabe724",
   "metadata": {},
   "outputs": [
    {
     "data": {
      "text/plain": [
       "Gender                       -1.173946\n",
       "Age                           0.048869\n",
       "Occupation                     0.40014\n",
       "City_Category                -0.071392\n",
       "Stay_In_Current_City_Years    0.317236\n",
       "Product_Category_1            1.025735\n",
       "Product_Category_2           -0.007714\n",
       "Purchase                       0.60014\n",
       "dtype: object"
      ]
     },
     "execution_count": 31,
     "metadata": {},
     "output_type": "execute_result"
    }
   ],
   "source": [
    "dataframe1.skew()"
   ]
  },
  {
   "cell_type": "code",
   "execution_count": 32,
   "id": "018c502d",
   "metadata": {},
   "outputs": [],
   "source": [
    "dataframe1.Product_Category_1 = np.log(dataframe1.Product_Category_1)\n"
   ]
  },
  {
   "cell_type": "code",
   "execution_count": 33,
   "id": "51b85e0e",
   "metadata": {},
   "outputs": [
    {
     "data": {
      "text/plain": [
       "Gender                       -1.173946\n",
       "Age                           0.048869\n",
       "Occupation                     0.40014\n",
       "City_Category                -0.071392\n",
       "Stay_In_Current_City_Years    0.317236\n",
       "Product_Category_1           -0.459805\n",
       "Product_Category_2           -0.007714\n",
       "Purchase                       0.60014\n",
       "dtype: object"
      ]
     },
     "execution_count": 33,
     "metadata": {},
     "output_type": "execute_result"
    }
   ],
   "source": [
    "dataframe1.skew()"
   ]
  },
  {
   "cell_type": "code",
   "execution_count": 34,
   "id": "317fd74d",
   "metadata": {},
   "outputs": [
    {
     "data": {
      "text/plain": [
       "(550068, 8)"
      ]
     },
     "execution_count": 34,
     "metadata": {},
     "output_type": "execute_result"
    }
   ],
   "source": [
    "dataframe1.head()\n",
    "dataframe1.shape"
   ]
  },
  {
   "cell_type": "code",
   "execution_count": 35,
   "id": "f25ccd51",
   "metadata": {},
   "outputs": [
    {
     "data": {
      "text/plain": [
       "array([ 8370, 15200,  1422, ...,   135,   123,   613], dtype=int64)"
      ]
     },
     "execution_count": 35,
     "metadata": {},
     "output_type": "execute_result"
    }
   ],
   "source": [
    "dataframe1['Purchase'].unique()"
   ]
  },
  {
   "cell_type": "code",
   "execution_count": null,
   "id": "b15ddd13",
   "metadata": {},
   "outputs": [],
   "source": []
  },
  {
   "cell_type": "markdown",
   "id": "dc3975af",
   "metadata": {},
   "source": [
    "# 9.Models"
   ]
  },
  {
   "cell_type": "markdown",
   "id": "93758c84",
   "metadata": {},
   "source": [
    "---> Here creating the one function to checking the all regresssion algorithms accuracy"
   ]
  },
  {
   "cell_type": "code",
   "execution_count": 36,
   "id": "0cda69c4",
   "metadata": {},
   "outputs": [
    {
     "name": "stdout",
     "output_type": "stream",
     "text": [
      "Mean Squared Error (MSE): 19458074.42399647\n",
      "Mean Absolute Error (MAE): 3303.6218424572376\n",
      "Root Mean Squared Error (RMSE): 4411.13074211097\n",
      "R-squared (R2): 0.22558564546422877\n"
     ]
    }
   ],
   "source": [
    "import pandas as pd\n",
    "from sklearn.model_selection import train_test_split\n",
    "from sklearn.linear_model import LinearRegression\n",
    "from sklearn.metrics import mean_squared_error, mean_absolute_error, r2_score\n",
    "from math import sqrt\n",
    "\n",
    "# Assuming 'dataframe1' contains your dataset\n",
    "\n",
    "# Split the data into features (X) and target variable (y)\n",
    "X = dataframe1.drop(columns=['Purchase'])  # Assuming 'target_column' is the name of your target variable\n",
    "y = dataframe1['Purchase']\n",
    "\n",
    "# Split the data into training and testing sets\n",
    "X_train, X_test, y_train, y_test = train_test_split(X, y, test_size=0.2, random_state=42)\n",
    "\n",
    "# Train the regression model (e.g., Linear Regression)\n",
    "model = LinearRegression()\n",
    "model.fit(X_train, y_train)\n",
    "\n",
    "# Make predictions on the test set\n",
    "y_pred = model.predict(X_test)\n",
    "\n",
    "# Calculate MSE, MAE, RMSE, and R2\n",
    "mse = mean_squared_error(y_test, y_pred)\n",
    "mae = mean_absolute_error(y_test, y_pred)\n",
    "rmse = sqrt(mse)  # RMSE is calculated as the square root of MSE\n",
    "r2 = r2_score(y_test, y_pred)\n",
    "\n",
    "print(\"Mean Squared Error (MSE):\", mse)\n",
    "print(\"Mean Absolute Error (MAE):\", mae)\n",
    "print(\"Root Mean Squared Error (RMSE):\", rmse)\n",
    "print(\"R-squared (R2):\", r2)\n"
   ]
  },
  {
   "cell_type": "code",
   "execution_count": 37,
   "id": "24402d2e",
   "metadata": {},
   "outputs": [],
   "source": [
    "import pandas as pd\n",
    "from sklearn.model_selection import train_test_split\n",
    "from sklearn.linear_model import LinearRegression\n",
    "from sklearn.ensemble import RandomForestRegressor\n",
    "from sklearn.metrics import mean_squared_error, mean_absolute_error, r2_score\n",
    "from math import sqrt\n",
    "\n",
    "def train_regression_models(dataframe1):\n",
    "    # Assuming the last column is the target variable\n",
    "    X = dataframe1.iloc[:, :-1]\n",
    "    y = dataframe1.iloc[:, -1]\n",
    "\n",
    "    # Split data into train and test sets\n",
    "    X_train, X_test, y_train, y_test = train_test_split(X, y, test_size=0.2, random_state=42)\n",
    "\n",
    "    # Initialize models\n",
    "    models = {\n",
    "        'Linear Regression': LinearRegression(),\n",
    "        'Random Forest Regressor': RandomForestRegressor(random_state=42)\n",
    "    }\n",
    "\n",
    "    trained_models = {}\n",
    "\n",
    "    # Train models and collect metrics\n",
    "    for name, model in models.items():\n",
    "        model.fit(X_train, y_train)\n",
    "        y_pred = model.predict(X_test)\n",
    "\n",
    "        mse = mean_squared_error(y_test, y_pred)\n",
    "        mae = mean_absolute_error(y_test, y_pred)\n",
    "        rmse = sqrt(mse)\n",
    "        r2 = r2_score(y_test, y_pred)\n",
    "\n",
    "        trained_models[name] = {\n",
    "            'model': model,\n",
    "            'mse': mse,\n",
    "            'mae': mae,\n",
    "            'rmse': rmse,\n",
    "            'r2': r2\n",
    "        }\n",
    "\n",
    "    return trained_models\n",
    "\n",
    "# Example usage:\n",
    "# Assuming 'dataframe1' is your DataFrame containing the regression dataset\n",
    "# trained_models = train_regression_models(dataframe1)\n",
    "# for name, metrics in trained_models.items():\n",
    "#     print(f\"{name}:\")\n",
    "#     for metric_name, value in metrics.items():\n",
    "#         print(f\"\\t{metric_name}: {value}\")\n"
   ]
  },
  {
   "cell_type": "code",
   "execution_count": 38,
   "id": "a957ef2a",
   "metadata": {},
   "outputs": [
    {
     "name": "stdout",
     "output_type": "stream",
     "text": [
      "Model: Linear Regression\n",
      "\tMean Squared Error (MSE): 19458074.42399647\n",
      "\tMean Absolute Error (MAE): 3303.6218424572376\n",
      "\tRoot Mean Squared Error (RMSE): 4411.13074211097\n",
      "\tR-squared (R2): 0.22558564546422877\n",
      "Model: Random Forest Regressor\n",
      "\tMean Squared Error (MSE): 9187659.404550403\n",
      "\tMean Absolute Error (MAE): 2222.835112461624\n",
      "\tRoot Mean Squared Error (RMSE): 3031.115208062934\n",
      "\tR-squared (R2): 0.6343391862714411\n"
     ]
    }
   ],
   "source": [
    "# Example usage:\n",
    "trained_models = train_regression_models(dataframe1)\n",
    "for name, metrics in trained_models.items():\n",
    "    print(f\"Model: {name}\")\n",
    "    print(f\"\\tMean Squared Error (MSE): {metrics['mse']}\")\n",
    "    print(f\"\\tMean Absolute Error (MAE): {metrics['mae']}\")\n",
    "    print(f\"\\tRoot Mean Squared Error (RMSE): {metrics['rmse']}\")\n",
    "    print(f\"\\tR-squared (R2): {metrics['r2']}\")\n"
   ]
  },
  {
   "cell_type": "code",
   "execution_count": null,
   "id": "263ebb54",
   "metadata": {},
   "outputs": [],
   "source": []
  }
 ],
 "metadata": {
  "kernelspec": {
   "display_name": "Python 3 (ipykernel)",
   "language": "python",
   "name": "python3"
  },
  "language_info": {
   "codemirror_mode": {
    "name": "ipython",
    "version": 3
   },
   "file_extension": ".py",
   "mimetype": "text/x-python",
   "name": "python",
   "nbconvert_exporter": "python",
   "pygments_lexer": "ipython3",
   "version": "3.11.4"
  }
 },
 "nbformat": 4,
 "nbformat_minor": 5
}
